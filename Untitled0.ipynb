{
  "nbformat": 4,
  "nbformat_minor": 0,
  "metadata": {
    "colab": {
      "provenance": [],
      "authorship_tag": "ABX9TyOsYSChPiQmUJtzSD1LCLbi",
      "include_colab_link": true
    },
    "kernelspec": {
      "name": "python3",
      "display_name": "Python 3"
    },
    "language_info": {
      "name": "python"
    }
  },
  "cells": [
    {
      "cell_type": "markdown",
      "metadata": {
        "id": "view-in-github",
        "colab_type": "text"
      },
      "source": [
        "<a href=\"https://colab.research.google.com/github/Kalpana-1234/DAA2/blob/main/Untitled0.ipynb\" target=\"_parent\"><img src=\"https://colab.research.google.com/assets/colab-badge.svg\" alt=\"Open In Colab\"/></a>"
      ]
    },
    {
      "cell_type": "code",
      "execution_count": 1,
      "metadata": {
        "colab": {
          "base_uri": "https://localhost:8080/"
        },
        "id": "7Y3lmfda_MpB",
        "outputId": "f09738d4-d1eb-42fb-be6d-75c2fd7c476d"
      },
      "outputs": [
        {
          "output_type": "stream",
          "name": "stdout",
          "text": [
            " after function call\n",
            "0 2 4 6 8 \n",
            "2 0 2 4 6 \n",
            "4 2 0 2 4 \n",
            "6 4 2 3 2 \n",
            "8 6 4 2 4 \n"
          ]
        }
      ],
      "source": [
        "def string_align(dp, x, y):\n",
        "    delta = 2  # Cost for insertion or deletion\n",
        "\n",
        "\n",
        "    if_vowel = [0] * 26\n",
        "    vowels = \"aeiou\"\n",
        "    for e in vowels:\n",
        "        if_vowel[ord(e) - ord('a')] = 1\n",
        "\n",
        "\n",
        "    alph = [[0] * 26 for _ in range(26)]\n",
        "    for i in range(26):\n",
        "        for j in range(26):\n",
        "            if i == j:\n",
        "                alph[i][j] = 0\n",
        "            elif if_vowel[i] == if_vowel[j]:  # same mismatch (both vowels or both consonants)\n",
        "                alph[i][j] = 1\n",
        "            else:                            # different type mismatch\n",
        "                alph[i][j] = 3\n",
        "\n",
        "    # Base Cases\n",
        "    for i in range(len(x) + 1):\n",
        "        dp[i][0] = i * delta  # Cost of deleting all characters from x\n",
        "    for j in range(len(y) + 1):\n",
        "        dp[0][j] = j * delta  # Cost of inserting all characters of y\n",
        "\n",
        "    # Fill the DP table\n",
        "    for i in range(1, len(x) + 1):\n",
        "        for j in range(1, len(y) + 1):\n",
        "            c1 = dp[i - 1][j - 1] + alph[ord(x[i - 1]) - ord('a')][ord(y[j - 1]) - ord('a')]\n",
        "            c2 = dp[i - 1][j] + delta  # Deletion  gap\n",
        "            c3 = dp[i][j - 1] + delta  # Insertion  gap\n",
        "            dp[i][j] = min(c1, c2, c3)\n",
        "\n",
        "def main():\n",
        "    a = \"name\"\n",
        "    b = \"naem\"\n",
        "    dp = [[0] * (len(b) + 1) for _ in range(len(a) + 1)]\n",
        "\n",
        "    string_align(dp, a, b)\n",
        "\n",
        "    print(\" after function call\")\n",
        "    for i in range(len(a) + 1):\n",
        "        for j in range(len(b) + 1):\n",
        "            print(dp[i][j], end=\" \")\n",
        "        print()\n",
        "\n",
        "if __name__ == \"__main__\":\n",
        "    main()"
      ]
    }
  ]
}